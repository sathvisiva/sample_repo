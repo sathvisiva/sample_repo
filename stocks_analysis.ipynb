{
 "cells": [
  {
   "cell_type": "code",
   "execution_count": 7,
   "source": [
    "from pandas.io.pytables import AppendableFrameTable\n",
    "from requests.api import get\n",
    "from wrapper.kiteext import KiteExt\n",
    "from utils import Login\n",
    "from utils import SupportResistance\n",
    "from utils import Telegrambot\n",
    "from utils import CandlePattern\n",
    "from instruments import Instruments\n",
    "import json\n",
    "import pandas as pd\n",
    "import logging\n",
    "from time import sleep\n",
    "from datetime import datetime as dt\n",
    "from datetime import timedelta as td\n",
    "import schedule\n",
    "import numpy as np\n",
    "from utils import Utils\n",
    "from ticker import ZerodhaTicker\n",
    "import time\n",
    "from multiprocessing import Process\n",
    "import talib\n",
    "\n",
    "\n",
    "LoginWrapper = Login.Login()\n",
    "kite = LoginWrapper.loginkite()\n",
    "SupportResistanceWrapper = SupportResistance.SupportResistance()\n",
    "CandlePatternWrapper = CandlePattern.CandlePattern()\n",
    "TelegrambotWrapper = Telegrambot.Telegrambot()\n",
    "Instruments = Instruments.Instruments(kite)\n",
    "Utils = Utils.Utils()"
   ],
   "outputs": [],
   "metadata": {}
  },
  {
   "cell_type": "code",
   "execution_count": 5,
   "source": [
    "fnostoks = ['AARTIIND','ABFRL','ACC','ADANIENT','ADANIPORTS','ALKEM','AMARAJABAT','AMBUJACEM','APLLTD','APOLLOHOSP',\n",
    "            'APOLLOTYRE','ASHOKLEY','ASIANPAINT','ASTRAL','AUBANK','AUROPHARMA','AXISBANK','BAJAJ-AUTO','BAJAJFINSV',\n",
    "            'BAJFINANCE','BALKRISIND','BANDHANBNK','BANKBARODA','BATAINDIA','BEL','BERGEPAINT','BHARATFORG','BHARTIARTL',\n",
    "            'BHEL','BIOCON','BOSCHLTD','BPCL','BRITANNIA','CADILAHC','CANBK','CANFINHOME','CHOLAFIN','CIPLA','COALINDIA',\n",
    "            'COFORGE','COLPAL','CONCOR','COROMANDEL','CUB','CUMMINSIND','DABUR','DEEPAKNTR','DIVISLAB','DIXON','DLF',\n",
    "            'DRREDDY','EICHERMOT','ESCORTS','EXIDEIND','FEDERALBNK','GAIL','GLENMARK','GMRINFRA','GODREJCP','GODREJPROP',\n",
    "            'GRANULES','GRASIM','GUJGASLTD','HAL','HAVELLS','HCLTECH','HDFC','HDFCAMC','HDFCBANK','HDFCLIFE','HEROMOTOCO',\n",
    "            'HINDALCO','HINDPETRO','HINDUNILVR','IBULHSGFIN','ICICIBANK','ICICIGI','ICICIPRULI','IDEA','IDFCFIRSTB',\n",
    "            'IEX','IGL','INDHOTEL','INDIAMART','INDIGO','INDUSINDBK','INDUSINDBK','INFY','IOC','IPCALAB','IRCTC','ITC',\n",
    "            'JINDALSTEL','JSWSTEEL','JUBLFOOD','KOTAKBANK','L&TFH','LALPATHLAB','LICHSGFIN','LT','LTI','LTTS','LUPIN','M&M',\n",
    "            'M&MFIN','MANAPPURAM','MARICO','MARUTI','MCDOWELL-N','MCX','METROPOLIS','MFSL','MGL','MINDTREE','MOTHERSUMI',\n",
    "            'MPHASIS','MRF','MUTHOOTFIN','NAM-INDIA','NATIONALUM','NAUKRI','NAVINFLUOR','NESTLEIND','NMDC','NTPC',\n",
    "            'OFSS','ONGC','PAGEIND','PEL','PETRONET','PFC','PFIZER','PIDILITIND','PIIND','PNB','POLYCAB','POWERGRID',\n",
    "            'PVR','RAMCOCEM','RBLBANK','RECLTD','RELIANCE','SAIL','SBILIFE','SBIN','SHREECEM','SIEMENS','SRF','SRTRANSFIN',\n",
    "            'STAR','SUNPHARMA','SUNTV','SYNGENE','TATACHEM','TATACONSUM','TATAMOTORS','TATAPOWER','TATASTEEL','TCS','TECHM',\n",
    "            'TITAN','TORNTPHARM','TORNTPOWER','TRENT','TVSMOTOR','UBL','ULTRACEMCO','UPL','VEDL','VOLTAS','WIPRO','ZEEL']"
   ],
   "outputs": [],
   "metadata": {}
  },
  {
   "cell_type": "code",
   "execution_count": 10,
   "source": [],
   "outputs": [],
   "metadata": {}
  },
  {
   "cell_type": "code",
   "execution_count": 20,
   "source": [
    "above_rsi = []\n",
    "below_ris = []"
   ],
   "outputs": [],
   "metadata": {}
  },
  {
   "cell_type": "code",
   "execution_count": 41,
   "source": [
    "data = pd.DataFrame()\n",
    "for scrips in fnostoks:\n",
    "    token = Instruments.getInstrumentDataBySymbol(scrips,'NSE')\n",
    "    df = pd.DataFrame(kite.historical_data(token, dt.today() - td(days=90), dt.today(), 'day'))\n",
    "    df['stock'] = scrips\n",
    "    data = data.append(df)\n",
    "    real = talib.RSI(df['close'], timeperiod=14)\n",
    "    if real.iloc[-1] > 80:\n",
    "        above_rsi.append(scrips)\n",
    "    elif real.iloc[-1] < 30:\n",
    "        below_ris.append(scrips)\n",
    "    sleep(5)"
   ],
   "outputs": [],
   "metadata": {}
  },
  {
   "cell_type": "code",
   "execution_count": 67,
   "source": [
    "\n"
   ],
   "outputs": [],
   "metadata": {}
  },
  {
   "cell_type": "code",
   "execution_count": 58,
   "source": [
    "df = data[data['stock'] == 'MARICO']"
   ],
   "outputs": [],
   "metadata": {}
  },
  {
   "cell_type": "code",
   "execution_count": 84,
   "source": [
    "last_2_smas_higher = []\n",
    "for scrips in fnostoks:\n",
    "    df = data[data['stock'] == scrips]\n",
    "    smas = pd.DataFrame()\n",
    "    smas['sma_20'] = talib.SMA(df['close'],20)\n",
    "    smas['sma_50'] = talib.SMA(df['close'],50)\n",
    "    smas['greater'] = smas['sma_20'] > smas['sma_50']\n",
    "    if (smas.iloc[-2]['greater'] == True) & (smas.iloc[-1]['greater'] == True):\n",
    "        if (smas.iloc[-5]['greater'] == False) | (smas.iloc[-4]['greater'] == False):\n",
    "            last_2_smas_higher.append(scrips)\n",
    "    \n",
    "    "
   ],
   "outputs": [],
   "metadata": {}
  },
  {
   "cell_type": "code",
   "execution_count": 85,
   "source": [
    "last_2_smas_higher\n"
   ],
   "outputs": [
    {
     "output_type": "execute_result",
     "data": {
      "text/plain": [
       "['BEL',\n",
       " 'CANFINHOME',\n",
       " 'CONCOR',\n",
       " 'GAIL',\n",
       " 'ICICIGI',\n",
       " 'IOC',\n",
       " 'MARICO',\n",
       " 'PIDILITIND']"
      ]
     },
     "metadata": {},
     "execution_count": 85
    }
   ],
   "metadata": {}
  },
  {
   "cell_type": "code",
   "execution_count": 60,
   "source": [
    "sma_20 = talib.SMA(df['close'],20)\n",
    "sma_50 = talib.SMA(df['close'],50)"
   ],
   "outputs": [],
   "metadata": {}
  },
  {
   "cell_type": "code",
   "execution_count": 61,
   "source": [
    "smas = pd.DataFrame()\n",
    "smas['sma_20'] = sma_20\n",
    "smas['sma_50'] = sma_50 "
   ],
   "outputs": [],
   "metadata": {}
  },
  {
   "cell_type": "code",
   "execution_count": 62,
   "source": [
    "smas['greater'] = smas['sma_20'] > smas['sma_50']"
   ],
   "outputs": [],
   "metadata": {}
  },
  {
   "cell_type": "code",
   "execution_count": 63,
   "source": [
    "smas['greater']"
   ],
   "outputs": [
    {
     "output_type": "execute_result",
     "data": {
      "text/plain": [
       "0     False\n",
       "1     False\n",
       "2     False\n",
       "3     False\n",
       "4     False\n",
       "      ...  \n",
       "56    False\n",
       "57    False\n",
       "58     True\n",
       "59     True\n",
       "60     True\n",
       "Name: greater, Length: 61, dtype: bool"
      ]
     },
     "metadata": {},
     "execution_count": 63
    }
   ],
   "metadata": {}
  },
  {
   "cell_type": "code",
   "execution_count": 66,
   "source": [
    "(smas.iloc[-2]['greater'] == True) & (smas.iloc[-1]['greater'] == True)"
   ],
   "outputs": [
    {
     "output_type": "execute_result",
     "data": {
      "text/plain": [
       "True"
      ]
     },
     "metadata": {},
     "execution_count": 66
    }
   ],
   "metadata": {}
  },
  {
   "cell_type": "code",
   "execution_count": null,
   "source": [],
   "outputs": [],
   "metadata": {}
  }
 ],
 "metadata": {
  "orig_nbformat": 4,
  "language_info": {
   "name": "python",
   "version": "3.9.6",
   "mimetype": "text/x-python",
   "codemirror_mode": {
    "name": "ipython",
    "version": 3
   },
   "pygments_lexer": "ipython3",
   "nbconvert_exporter": "python",
   "file_extension": ".py"
  },
  "kernelspec": {
   "name": "python3",
   "display_name": "Python 3.9.6 64-bit ('venv': venv)"
  },
  "interpreter": {
   "hash": "7b040dbfadd9aa4c8b776a97ebdeb3a29eb87b6df477aef192feb00beb64b6f9"
  }
 },
 "nbformat": 4,
 "nbformat_minor": 2
}